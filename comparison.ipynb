{
 "cells": [
  {
   "cell_type": "code",
   "execution_count": 10,
   "metadata": {},
   "outputs": [],
   "source": [
    "from __future__ import print_function\n",
    "import argparse\n",
    "import os\n",
    "\n",
    "import torch\n",
    "import torch.nn as nn\n",
    "import torch.nn.functional as F\n",
    "import torch.optim as optim\n",
    "from torchvision import datasets, transforms\n",
    "from torchvision.datasets import MNIST\n",
    "from torch.autograd import Variable"
   ]
  },
  {
   "cell_type": "code",
   "execution_count": 11,
   "metadata": {},
   "outputs": [],
   "source": [
    "# settings\n",
    "batch_size = 128\n",
    "batch_size_test = 1000\n",
    "n_epochs = 10\n",
    "learning_rate = 0.01\n",
    "momentum = 0.9\n",
    "use_cuda = True\n",
    "rnd_seed = 1\n",
    "log_interval = 10"
   ]
  },
  {
   "cell_type": "code",
   "execution_count": 12,
   "metadata": {},
   "outputs": [],
   "source": [
    "# CapsNet\n",
    "from capsnet import CapsNetWithReconstruction, CapsNet, ReconstructionNet"
   ]
  },
  {
   "cell_type": "code",
   "execution_count": 14,
   "metadata": {},
   "outputs": [],
   "source": [
    "kwargs = {'num_workers': 1, 'pin_memory': True} if use_cuda else {}\n",
    "\n",
    "train_loader = torch.utils.data.DataLoader(\n",
    "        datasets.MNIST('../data', train=True, download=True,\n",
    "                       transform=transforms.Compose([\n",
    "                           transforms.Pad(2), transforms.RandomCrop(28),\n",
    "                           transforms.ToTensor()\n",
    "                       ])),\n",
    "        batch_size=batch_size, shuffle=True, **kwargs)"
   ]
  },
  {
   "cell_type": "code",
   "execution_count": 50,
   "metadata": {},
   "outputs": [
    {
     "name": "stdout",
     "output_type": "stream",
     "text": [
      "Input:\t\t\t torch.Size([128, 1, 28, 28])\n",
      "After Conv2d:\t\t torch.Size([128, 10, 24, 24])\n",
      "After MaxPool2d:\t torch.Size([128, 10, 12, 12])\n"
     ]
    }
   ],
   "source": [
    "for batch_idx, (data, target) in enumerate(train_loader):\n",
    "    data, target = Variable(data), Variable(target)\n",
    "    conv1 = nn.Conv2d(in_channels=1, out_channels=10, kernel_size=5)\n",
    "    out = conv1(data)\n",
    "    out1 = F.max_pool2d(out,2)\n",
    "    print('Input:\\t\\t\\t', data.shape)\n",
    "    print('After Conv2d:\\t\\t', out.shape)\n",
    "    print('After MaxPool2d:\\t', out1.shape)\n",
    "    #if batch_idx>0:\n",
    "    break"
   ]
  },
  {
   "cell_type": "code",
   "execution_count": 56,
   "metadata": {},
   "outputs": [],
   "source": [
    "class OneLayerConv2d(nn.Module):\n",
    "    def __init__(self):\n",
    "        super(OneLayerConv2d, self).__init__()\n",
    "        self.conv1 = nn.Conv2d(in_channels=2, out_channels=10, \n",
    "                               kernel_size=5, bias=True)\n",
    "        \n",
    "    def forward(self, x):\n",
    "        return self.conv(x)"
   ]
  },
  {
   "cell_type": "code",
   "execution_count": 57,
   "metadata": {},
   "outputs": [
    {
     "name": "stdout",
     "output_type": "stream",
     "text": [
      "OneLayerConv2d(\n",
      "  (conv1): Conv2d (2, 10, kernel_size=(5, 5), stride=(1, 1))\n",
      ")\n"
     ]
    }
   ],
   "source": [
    "net = OneLayerConv2d()\n",
    "print(net)"
   ]
  },
  {
   "cell_type": "code",
   "execution_count": 76,
   "metadata": {},
   "outputs": [
    {
     "name": "stdout",
     "output_type": "stream",
     "text": [
      "2 -> parameters for weights and biases\n",
      "torch.Size([10, 2, 5, 5])\n",
      "Number of trainable parameters:\t 500\n"
     ]
    }
   ],
   "source": [
    "params = list(net.parameters())\n",
    "print(len(params), \"-> parameters for weights and biases\")\n",
    "print(params[0].size())\n",
    "print(\"Number of trainable parameters:\\t\",\n",
    "     reduce(lambda x, y: x*y, params[0].size()))"
   ]
  },
  {
   "cell_type": "code",
   "execution_count": 63,
   "metadata": {},
   "outputs": [
    {
     "name": "stdout",
     "output_type": "stream",
     "text": [
      "torch.Size([10, 2, 5, 5])\n",
      "Parameter containing:\n",
      "(0 ,0 ,.,.) = \n",
      "  0.1066  0.0026 -0.0060  0.1339  0.0063\n",
      " -0.0425 -0.1411  0.0214 -0.0909 -0.0752\n",
      " -0.0764 -0.0703  0.0554  0.0164 -0.1044\n",
      "  0.1413 -0.1279  0.0555  0.0241  0.0328\n",
      "  0.1375  0.0222 -0.0564 -0.0859 -0.0329\n",
      "\n",
      "(0 ,1 ,.,.) = \n",
      "  0.1097  0.1307 -0.1246 -0.0089 -0.0799\n",
      "  0.0836  0.1281  0.0551  0.0797  0.1144\n",
      " -0.1012 -0.0591  0.0969 -0.0979  0.0029\n",
      " -0.1254 -0.0456 -0.0388 -0.0642  0.0758\n",
      " -0.0726  0.0712  0.0626 -0.1267 -0.0501\n",
      "\n",
      "(1 ,0 ,.,.) = \n",
      "  0.1028 -0.0568 -0.1045 -0.0854 -0.0940\n",
      " -0.1160 -0.0787  0.0583  0.1102  0.1147\n",
      " -0.0188  0.0131 -0.0100  0.1199  0.0963\n",
      " -0.0911 -0.0688  0.1021  0.0111 -0.0063\n",
      " -0.0598 -0.0090  0.0249 -0.0780  0.0704\n",
      "\n",
      "(1 ,1 ,.,.) = \n",
      " -0.0007 -0.0162  0.0171 -0.0254 -0.1341\n",
      "  0.0210  0.1134  0.0825  0.1352  0.0877\n",
      " -0.1370 -0.0725 -0.0253 -0.1200  0.0305\n",
      " -0.0827  0.0857 -0.0488  0.1386  0.0436\n",
      " -0.0306  0.0224 -0.0571  0.0501  0.1226\n",
      "\n",
      "(2 ,0 ,.,.) = \n",
      " -0.0013 -0.0700  0.0545  0.1234  0.0104\n",
      "  0.1113 -0.0039 -0.0141  0.1101 -0.0312\n",
      " -0.1172  0.0828  0.0226 -0.0082 -0.0375\n",
      "  0.0761  0.0393 -0.0490 -0.1394 -0.0223\n",
      "  0.0712 -0.0686  0.0472 -0.0795  0.0632\n",
      "\n",
      "(2 ,1 ,.,.) = \n",
      "  0.0069 -0.0886 -0.1414 -0.0429  0.0497\n",
      "  0.0368 -0.0646  0.0772 -0.0936 -0.0216\n",
      " -0.0588  0.0951 -0.0108 -0.0076 -0.1237\n",
      " -0.0341  0.1393 -0.0444  0.0586  0.1288\n",
      "  0.0727  0.1219  0.0450 -0.0479  0.0575\n",
      "\n",
      "(3 ,0 ,.,.) = \n",
      " -0.0308  0.0884  0.1186  0.0149  0.1297\n",
      " -0.0285  0.0398 -0.0528 -0.1267 -0.0282\n",
      "  0.0321 -0.1287  0.0262 -0.0090 -0.0826\n",
      "  0.1065 -0.0089 -0.0410  0.0736  0.0898\n",
      "  0.0745 -0.0163 -0.0009 -0.0835 -0.0881\n",
      "\n",
      "(3 ,1 ,.,.) = \n",
      "  0.1046  0.0230 -0.0880 -0.0539 -0.0447\n",
      "  0.0531 -0.1366  0.0038  0.0596  0.1392\n",
      "  0.1324  0.1383 -0.0433 -0.0102  0.0293\n",
      " -0.0784 -0.0184 -0.1269 -0.0858 -0.0462\n",
      "  0.1131 -0.1056 -0.0339  0.0785  0.0206\n",
      "\n",
      "(4 ,0 ,.,.) = \n",
      "  0.0845  0.0144 -0.0840  0.1016  0.1357\n",
      " -0.1180  0.0487 -0.1401 -0.0801 -0.0572\n",
      "  0.1272  0.0195 -0.1312 -0.1367 -0.0280\n",
      "  0.0840  0.1050 -0.1009 -0.1273  0.0403\n",
      " -0.0794 -0.1261  0.0520 -0.1295  0.1006\n",
      "\n",
      "(4 ,1 ,.,.) = \n",
      " -0.0226  0.0304 -0.0855 -0.0828 -0.0148\n",
      "  0.0667  0.0397  0.0911  0.1307  0.0887\n",
      "  0.0464  0.0676  0.1335  0.1408 -0.0075\n",
      " -0.0325  0.0586  0.0037  0.0241 -0.0619\n",
      "  0.0616 -0.1115  0.0572  0.0528 -0.0334\n",
      "\n",
      "(5 ,0 ,.,.) = \n",
      "  0.1145  0.0768  0.0348  0.0017  0.1392\n",
      " -0.0217  0.0159  0.0865  0.0305 -0.0419\n",
      "  0.1170  0.0977  0.0348 -0.1293  0.0326\n",
      " -0.1071  0.0691  0.0016 -0.0359 -0.0617\n",
      " -0.0548  0.0164 -0.0263 -0.0680  0.1290\n",
      "\n",
      "(5 ,1 ,.,.) = \n",
      "  0.0863  0.1223  0.1083 -0.0087 -0.1334\n",
      "  0.1201  0.1371 -0.0754 -0.1135 -0.0095\n",
      "  0.0530  0.0054  0.1278  0.0096  0.1122\n",
      "  0.0175  0.0753 -0.0302 -0.0236 -0.0871\n",
      "  0.0431 -0.0485  0.0190 -0.0275  0.1158\n",
      "\n",
      "(6 ,0 ,.,.) = \n",
      " -0.0537 -0.1230  0.0075  0.0096  0.0324\n",
      " -0.0691  0.1342 -0.1362 -0.0634  0.1201\n",
      " -0.0400 -0.0805  0.0555 -0.1265  0.0749\n",
      "  0.1410  0.0480  0.1185 -0.1272 -0.0088\n",
      " -0.0847  0.0989 -0.0328  0.1078 -0.0930\n",
      "\n",
      "(6 ,1 ,.,.) = \n",
      " -0.0474  0.1181 -0.0061 -0.0015  0.0329\n",
      "  0.1075  0.0036  0.0607  0.0258 -0.0003\n",
      " -0.1141 -0.0111  0.0134 -0.1162  0.0465\n",
      " -0.0075  0.1409 -0.0481 -0.0081 -0.0996\n",
      "  0.1088 -0.0963  0.1105 -0.1271  0.1290\n",
      "\n",
      "(7 ,0 ,.,.) = \n",
      " -0.0993  0.0370 -0.1081 -0.0313  0.0435\n",
      " -0.1275  0.1115  0.1099  0.1338 -0.0135\n",
      " -0.1218  0.0232  0.0823  0.0025  0.0333\n",
      "  0.1211  0.0165  0.0693 -0.0505 -0.0097\n",
      " -0.0035  0.0402  0.1275 -0.1327 -0.0485\n",
      "\n",
      "(7 ,1 ,.,.) = \n",
      " -0.0820  0.0332 -0.0043  0.0462 -0.0431\n",
      "  0.0840  0.0684 -0.0151 -0.1206  0.0928\n",
      " -0.1166  0.0720  0.0802 -0.0279  0.1057\n",
      "  0.0672  0.0919  0.0341  0.1391  0.1315\n",
      "  0.0290 -0.0916 -0.0711  0.1091 -0.1223\n",
      "\n",
      "(8 ,0 ,.,.) = \n",
      " -0.0060  0.0278  0.0667 -0.1319 -0.0482\n",
      " -0.0113 -0.0787  0.0408  0.0995 -0.0179\n",
      " -0.0688 -0.0368  0.0842  0.0265 -0.1121\n",
      "  0.0675  0.0719 -0.0365  0.0339 -0.0390\n",
      "  0.0026 -0.0374  0.0182  0.0103 -0.0327\n",
      "\n",
      "(8 ,1 ,.,.) = \n",
      "  0.0149 -0.1203  0.0692 -0.0972 -0.0033\n",
      "  0.1243  0.0072 -0.0800  0.0001  0.0719\n",
      " -0.0564  0.0145 -0.0885  0.0027 -0.0376\n",
      "  0.0507  0.1053  0.0432 -0.1046  0.1012\n",
      " -0.0011 -0.0699  0.0454 -0.1083 -0.0889\n",
      "\n",
      "(9 ,0 ,.,.) = \n",
      "  0.0897 -0.0832 -0.0360 -0.0018 -0.0208\n",
      " -0.1174  0.0929 -0.0507 -0.0101 -0.0837\n",
      "  0.0140 -0.1184  0.1401 -0.0013  0.0701\n",
      "  0.0732 -0.0923  0.0732 -0.1228 -0.1276\n",
      " -0.0209  0.0026  0.0798 -0.0743  0.0150\n",
      "\n",
      "(9 ,1 ,.,.) = \n",
      " -0.1400  0.0181 -0.0467  0.0228 -0.1378\n",
      "  0.0880  0.0711 -0.1164 -0.0693 -0.1124\n",
      " -0.0253 -0.1254  0.0992 -0.1084  0.0404\n",
      " -0.1104  0.1342 -0.0685 -0.0193  0.0305\n",
      "  0.0929 -0.0044  0.0841 -0.0024 -0.0739\n",
      "[torch.FloatTensor of size 10x2x5x5]\n",
      "\n"
     ]
    }
   ],
   "source": [
    "print(list(net.parameters())[0].size())\n",
    "print(list(net.parameters())[0])"
   ]
  },
  {
   "cell_type": "code",
   "execution_count": null,
   "metadata": {},
   "outputs": [],
   "source": []
  }
 ],
 "metadata": {
  "kernelspec": {
   "display_name": "Python 2",
   "language": "python",
   "name": "python2"
  },
  "language_info": {
   "codemirror_mode": {
    "name": "ipython",
    "version": 2
   },
   "file_extension": ".py",
   "mimetype": "text/x-python",
   "name": "python",
   "nbconvert_exporter": "python",
   "pygments_lexer": "ipython2",
   "version": "2.7.12"
  }
 },
 "nbformat": 4,
 "nbformat_minor": 2
}
