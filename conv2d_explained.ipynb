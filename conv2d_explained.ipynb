{
 "cells": [
  {
   "cell_type": "code",
   "execution_count": 1,
   "metadata": {},
   "outputs": [],
   "source": [
    "from __future__ import print_function\n",
    "\n",
    "import torch\n",
    "import torch.nn as nn"
   ]
  },
  {
   "cell_type": "markdown",
   "metadata": {},
   "source": [
    "## What happens in your CNN: conv2d\n",
    "### (discrete 2-D convolutions)\n",
    "This short gist assumes some basic knowledge about fully-connected neural networks - the kind everyone is first introduced to. Here we try to understand in detail what happens when using a 2-D convolutional layer in our net. Convolutional layers and CNNs in general are very popular in domains like Computer Vision, but can also be applied to many other types of data with an intrinsic structure (e.g. sound clips or text).  \n",
    "The purpose of this gist is to shed some light on what happens when discrete convolutions are performed.\n",
    "\n",
    "### Why?\n",
    "One might ask why should we even bother with convolutions in the first place?  \n",
    "In short: With discrete convolutions we can exploit the intrinsic structure  of the given data (if present). We'll use images (and therefore 2-D convolutions) as an example since this case is the easiest to visualize.\n"
   ]
  },
  {
   "cell_type": "code",
   "execution_count": null,
   "metadata": {},
   "outputs": [],
   "source": []
  }
 ],
 "metadata": {
  "kernelspec": {
   "display_name": "Python 2",
   "language": "python",
   "name": "python2"
  },
  "language_info": {
   "codemirror_mode": {
    "name": "ipython",
    "version": 2
   },
   "file_extension": ".py",
   "mimetype": "text/x-python",
   "name": "python",
   "nbconvert_exporter": "python",
   "pygments_lexer": "ipython2",
   "version": "2.7.12"
  }
 },
 "nbformat": 4,
 "nbformat_minor": 2
}
